{
 "cells": [
  {
   "cell_type": "markdown",
   "metadata": {},
   "source": [
    "List out the items in the list"
   ]
  },
  {
   "cell_type": "code",
   "execution_count": 33,
   "metadata": {},
   "outputs": [],
   "source": [
    "def Subfields():\n",
    "    list=[\"Subfields in AI are:\",\"Machine Learning\",\"Neural Networks\",\"Vision\",\"Robotics\",\"Speech Processing\",\"Natural Language Processing\"]\n",
    "    for subfields in list:\n",
    "        print(subfields)"
   ]
  },
  {
   "cell_type": "code",
   "execution_count": 34,
   "metadata": {},
   "outputs": [
    {
     "name": "stdout",
     "output_type": "stream",
     "text": [
      "Subfields in AI are:\n",
      "Machine Learning\n",
      "Neural Networks\n",
      "Vision\n",
      "Robotics\n",
      "Speech Processing\n",
      "Natural Language Processing\n"
     ]
    }
   ],
   "source": [
    "Subfields()"
   ]
  },
  {
   "cell_type": "markdown",
   "metadata": {},
   "source": [
    "Odd Even"
   ]
  },
  {
   "cell_type": "code",
   "execution_count": 1,
   "metadata": {},
   "outputs": [],
   "source": [
    "def OddEven():\n",
    "    num=int(input(\"Enter the number:\"))\n",
    "    if((num%2)==1):\n",
    "        print(\"Odd Number\")\n",
    "        message =\"Odd Number\"\n",
    "    else:\n",
    "        print(\"Even Number\")\n",
    "        message =\"Even Number\"\n",
    "    return message"
   ]
  },
  {
   "cell_type": "code",
   "execution_count": 2,
   "metadata": {
    "scrolled": true
   },
   "outputs": [
    {
     "name": "stdout",
     "output_type": "stream",
     "text": [
      "Enter the number:52452\n",
      "Even Number\n"
     ]
    },
    {
     "data": {
      "text/plain": [
       "'Even Number'"
      ]
     },
     "execution_count": 2,
     "metadata": {},
     "output_type": "execute_result"
    }
   ],
   "source": [
    "OddEven()"
   ]
  },
  {
   "cell_type": "markdown",
   "metadata": {},
   "source": [
    " Marriage Eligibility"
   ]
  },
  {
   "cell_type": "code",
   "execution_count": 20,
   "metadata": {},
   "outputs": [],
   "source": [
    "def MarriageEligibility():\n",
    "    gender=input(\"Enter your gender:\")\n",
    "    age=int(input(\"Ener your age:\"))\n",
    "    if(age>=18 and gender==\"Female\"):\n",
    "        print(\"Eligible\")\n",
    "        message=\"Eligible\"\n",
    "    elif(age>=21 and gender==\"Male\"):\n",
    "        print(\"Eligible\")\n",
    "        message=\"Eligible\"\n",
    "    else:\n",
    "        print(\"Not Eligible\")\n",
    "        message=\"Not Eligible\"\n",
    "    return message"
   ]
  },
  {
   "cell_type": "code",
   "execution_count": 21,
   "metadata": {},
   "outputs": [
    {
     "name": "stdout",
     "output_type": "stream",
     "text": [
      "Enter your gender:Male\n",
      "Ener your age:20\n",
      "Not Eligible\n"
     ]
    },
    {
     "data": {
      "text/plain": [
       "'Not Eligible'"
      ]
     },
     "execution_count": 21,
     "metadata": {},
     "output_type": "execute_result"
    }
   ],
   "source": [
    "MarriageEligibility()"
   ]
  },
  {
   "cell_type": "markdown",
   "metadata": {},
   "source": [
    "Calculate the percentage of Marks"
   ]
  },
  {
   "cell_type": "code",
   "execution_count": 3,
   "metadata": {},
   "outputs": [],
   "source": [
    "def PercentageofMarks():\n",
    "    num1=int(input(\"Subject1=\"))\n",
    "    num2=int(input(\"subject2=\"))\n",
    "    num3=int(input(\"subject3=\"))\n",
    "    num4=int(input(\"subject4=\"))\n",
    "    num5=int(input(\"subject5=\"))\n",
    "    add=num1+num2+num3+num4+num5\n",
    "    print(\"Total=\",add)\n",
    "    print(\"Percentage=\",add/5)"
   ]
  },
  {
   "cell_type": "code",
   "execution_count": 4,
   "metadata": {},
   "outputs": [
    {
     "name": "stdout",
     "output_type": "stream",
     "text": [
      "Subject1=98\n",
      "subject2=87\n",
      "subject3=95\n",
      "subject4=95\n",
      "subject5=93\n",
      "Total= 468\n",
      "Percentage= 93.6\n"
     ]
    }
   ],
   "source": [
    "PercentageofMarks()"
   ]
  },
  {
   "cell_type": "markdown",
   "metadata": {},
   "source": [
    "Area and perimeter of Triangle:"
   ]
  },
  {
   "cell_type": "code",
   "execution_count": 9,
   "metadata": {},
   "outputs": [
    {
     "name": "stdout",
     "output_type": "stream",
     "text": [
      "Height:32\n",
      "Breadth:34\n",
      "Area Formula:(Height*Breadth)/2\n",
      "Area of Triangle: 544.0\n",
      "Height1:2\n",
      "Height2:4\n",
      "Breadth:4\n",
      "Perimeter Formula:Height1+Height2+Breadth\n",
      "Perimeter of Triangle: 10\n"
     ]
    }
   ],
   "source": [
    "num1=int(input(\"Height:\"))\n",
    "num2=int(input(\"Breadth:\"))\n",
    "Answer=num1*num2/2\n",
    "print(\"Area Formula:(Height*Breadth)/2\")\n",
    "print(\"Area of Triangle:\",Answer)\n",
    "num3=int(input(\"Height1:\"))\n",
    "num4=int(input(\"Height2:\"))\n",
    "num5=int(input(\"Breadth:\"))\n",
    "Add=num3+num4+num5\n",
    "print(\"Perimeter Formula:Height1+Height2+Breadth\")\n",
    "print(\"Perimeter of Triangle:\",Add)"
   ]
  },
  {
   "cell_type": "code",
   "execution_count": 10,
   "metadata": {},
   "outputs": [],
   "source": [
    "def Triangle():\n",
    "    num1=int(input(\"Height:\"))\n",
    "    num2=int(input(\"Breadth:\"))\n",
    "    Answer=num1*num2/2\n",
    "    print(\"Area Formula:(Height*Breadth)/2\")\n",
    "    print(\"Area of Triangle:\",Answer)\n",
    "    num3=int(input(\"Height1:\"))\n",
    "    num4=int(input(\"Height2:\"))\n",
    "    num5=int(input(\"Breadth:\"))\n",
    "    Add=num3+num4+num5\n",
    "    print(\"Perimeter Formula:Height1+Height2+Breadth\")\n",
    "    print(\"Perimeter of Triangle:\",Add)\n",
    "\n"
   ]
  },
  {
   "cell_type": "code",
   "execution_count": 11,
   "metadata": {},
   "outputs": [
    {
     "name": "stdout",
     "output_type": "stream",
     "text": [
      "Height:32\n",
      "Breadth:34\n",
      "Area Formula:(Height*Breadth)/2\n",
      "Area of Triangle: 544.0\n",
      "Height1:2\n",
      "Height2:4\n",
      "Breadth:4\n",
      "Perimeter Formula:Height1+Height2+Breadth\n",
      "Perimeter of Triangle: 10\n"
     ]
    }
   ],
   "source": [
    "Triangle()"
   ]
  },
  {
   "cell_type": "code",
   "execution_count": 7,
   "metadata": {},
   "outputs": [],
   "source": [
    "class MyAssignments():\n",
    "    def Subfields():\n",
    "        list=[\"Subfields in AI are:\",\"Machine Learning\",\"Neural Networks\",\"Vision\",\"Robotics\",\"Speech Processing\",\"Natural Language Processing\"]\n",
    "        for subfields in list:\n",
    "            print(subfields)\n",
    "    def OddEven():\n",
    "        num=int(input(\"Enter the number:\"))\n",
    "        if((num%2)==1):\n",
    "            print(\"Odd Number\")\n",
    "            message =\"Odd Number\"\n",
    "        else:\n",
    "            print(\"Even Number\")\n",
    "            message =\"Even Number\"\n",
    "        return message\n",
    "    def MarriageEligibility():\n",
    "        gender=input(\"Enter your gender:\")\n",
    "        age=int(input(\"Ener your age:\"))\n",
    "        if(age>=18 and gender==\"Female\"):\n",
    "            print(\"Eligible\")\n",
    "            message=\"Eligible\"\n",
    "        elif(age>=21 and gender==\"Male\"):\n",
    "            print(\"Eligible\")\n",
    "            message=\"Eligible\"\n",
    "        else:\n",
    "            print(\"Not Eligible\")\n",
    "            message=\"Not Eligible\"\n",
    "        return message\n",
    "    def PercentageofMarks():\n",
    "        num1=int(input(\"Subject1=\"))\n",
    "        num2=int(input(\"subject2=\"))\n",
    "        num3=int(input(\"subject3=\"))\n",
    "        num4=int(input(\"subject4=\"))\n",
    "        num5=int(input(\"subject5=\"))\n",
    "        add=num1+num2+num3+num4+num5\n",
    "        print(\"Total=\",add)\n",
    "        print(\"Percentage=\",add/5)\n",
    "    def Triangle():\n",
    "        num1=int(input(\"Height:\"))\n",
    "        num2=int(input(\"Breadth:\"))\n",
    "        Answer=num1*num2/2\n",
    "        print(\"Area Formula:(Height*Breadth)/2\")\n",
    "        print(\"Area of Triangle:\",Answer)\n",
    "        num3=int(input(\"Height1:\"))\n",
    "        num4=int(input(\"Height2:\"))\n",
    "        num5=int(input(\"Breadth:\"))\n",
    "        Add=num3+num4+num5\n",
    "        print(\"Perimeter Formula:Height1+Height2+Breadth\")\n",
    "        print(\"Perimeter of Triangle:\",Add)\n",
    "\n"
   ]
  },
  {
   "cell_type": "code",
   "execution_count": 6,
   "metadata": {},
   "outputs": [
    {
     "name": "stdout",
     "output_type": "stream",
     "text": [
      "Height:32\n",
      "Breadth:34\n",
      "Area Formula:(Height*Breadth)/2\n",
      "Area of Triangle: 544.0\n",
      "Height1:2\n",
      "Height2:4\n",
      "Breadth:4\n",
      "Perimeter Formula:Height1+Height2+Breadth\n",
      "Perimeter of Triangle: 10\n"
     ]
    }
   ],
   "source": [
    "MyAssignments.()"
   ]
  },
  {
   "cell_type": "code",
   "execution_count": null,
   "metadata": {},
   "outputs": [],
   "source": []
  },
  {
   "cell_type": "code",
   "execution_count": null,
   "metadata": {},
   "outputs": [],
   "source": []
  },
  {
   "cell_type": "code",
   "execution_count": null,
   "metadata": {},
   "outputs": [],
   "source": []
  },
  {
   "cell_type": "code",
   "execution_count": null,
   "metadata": {},
   "outputs": [],
   "source": []
  },
  {
   "cell_type": "code",
   "execution_count": null,
   "metadata": {},
   "outputs": [],
   "source": []
  }
 ],
 "metadata": {
  "kernelspec": {
   "display_name": "Python 3",
   "language": "python",
   "name": "python3"
  }
 },
 "nbformat": 4,
 "nbformat_minor": 2
}
