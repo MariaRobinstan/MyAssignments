{
 "cells": [
  {
   "cell_type": "markdown",
   "metadata": {},
   "source": [
    "List out the items in the list"
   ]
  },
  {
   "cell_type": "code",
   "execution_count": 21,
   "metadata": {},
   "outputs": [],
   "source": [
    "def Subfields():\n",
    "    list=[\"Subfields in AI are:\",\"Machine Learning\",\"Neural Networks\",\"Vision\",\"Robotics\",\"Speech Processing\",\"Natural Language Processing\"]\n",
    "    for subfields in list:\n",
    "        print(subfields)"
   ]
  },
  {
   "cell_type": "code",
   "execution_count": 22,
   "metadata": {},
   "outputs": [
    {
     "name": "stdout",
     "output_type": "stream",
     "text": [
      "Subfields in AI are:\n",
      "Machine Learning\n",
      "Neural Networks\n",
      "Vision\n",
      "Robotics\n",
      "Speech Processing\n",
      "Natural Language Processing\n"
     ]
    }
   ],
   "source": [
    "Subfields()"
   ]
  },
  {
   "cell_type": "markdown",
   "metadata": {},
   "source": [
    "Odd Even"
   ]
  },
  {
   "cell_type": "code",
   "execution_count": 1,
   "metadata": {},
   "outputs": [],
   "source": [
    "def OddEven():\n",
    "    num=int(input(\"Enter the number:\"))\n",
    "    if((num%2)==1):\n",
    "        print(\"Odd Number\")\n",
    "        message =\"Odd Number\"\n",
    "    else:\n",
    "        print(\"Even Number\")\n",
    "        message =\"Even Number\"\n",
    "    return message"
   ]
  },
  {
   "cell_type": "code",
   "execution_count": 3,
   "metadata": {
    "scrolled": true
   },
   "outputs": [
    {
     "name": "stdout",
     "output_type": "stream",
     "text": [
      "Enter the number:4\n",
      "Even Number\n"
     ]
    },
    {
     "data": {
      "text/plain": [
       "'Even Number'"
      ]
     },
     "execution_count": 3,
     "metadata": {},
     "output_type": "execute_result"
    }
   ],
   "source": [
    "OddEven()"
   ]
  },
  {
   "cell_type": "markdown",
   "metadata": {},
   "source": [
    " Marriage Eligibility"
   ]
  },
  {
   "cell_type": "code",
   "execution_count": 5,
   "metadata": {},
   "outputs": [],
   "source": [
    "def MarriageEligibility():\n",
    "    gender=input(\"Enter your gender:\")\n",
    "    age=int(input(\"Ener your age:\"))\n",
    "    if(age>=18 and gender==\"Female\"):\n",
    "        print(\"Eligible\")\n",
    "        message=\"Eligible\"\n",
    "    elif(age>=21 and gender==\"Male\"):\n",
    "        print(\"Eligible\")\n",
    "        message=\"Eligible\"\n",
    "    else:\n",
    "        print(\"Not Eligible\")\n",
    "        message=\"Not Eligible\"\n",
    "    return message"
   ]
  },
  {
   "cell_type": "code",
   "execution_count": 6,
   "metadata": {},
   "outputs": [
    {
     "name": "stdout",
     "output_type": "stream",
     "text": [
      "Enter your gender:Male\n",
      "Ener your age:18\n",
      "Not Eligible\n"
     ]
    },
    {
     "data": {
      "text/plain": [
       "'Not Eligible'"
      ]
     },
     "execution_count": 6,
     "metadata": {},
     "output_type": "execute_result"
    }
   ],
   "source": [
    "MarriageEligibility()"
   ]
  },
  {
   "cell_type": "markdown",
   "metadata": {},
   "source": [
    "Calculate the percentage of Marks"
   ]
  },
  {
   "cell_type": "code",
   "execution_count": 8,
   "metadata": {},
   "outputs": [],
   "source": [
    "def PercentageofMarks():\n",
    "    num1=int(input(\"Subject1=\"))\n",
    "    num2=int(input(\"subject2=\"))\n",
    "    num3=int(input(\"subject3=\"))\n",
    "    num4=int(input(\"subject4=\"))\n",
    "    num5=int(input(\"subject5=\"))\n",
    "    add=num1+num2+num3+num4+num5\n",
    "    print(\"Total=\",add)\n",
    "    print(\"Percentage=\",add/5)"
   ]
  },
  {
   "cell_type": "code",
   "execution_count": 10,
   "metadata": {},
   "outputs": [
    {
     "name": "stdout",
     "output_type": "stream",
     "text": [
      "Subject1=23\n",
      "subject2=45\n",
      "subject3=34\n",
      "subject4=23\n",
      "subject5=23\n",
      "Total= 148\n",
      "Percentage= 29.6\n"
     ]
    }
   ],
   "source": [
    "PercentageofMarks()"
   ]
  },
  {
   "cell_type": "markdown",
   "metadata": {},
   "source": [
    "Area and perimeter of Triangle:"
   ]
  },
  {
   "cell_type": "code",
   "execution_count": 4,
   "metadata": {},
   "outputs": [
    {
     "ename": "SyntaxError",
     "evalue": "invalid syntax (<ipython-input-4-2b9e23109f8c>, line 3)",
     "output_type": "error",
     "traceback": [
      "\u001b[1;36m  File \u001b[1;32m\"<ipython-input-4-2b9e23109f8c>\"\u001b[1;36m, line \u001b[1;32m3\u001b[0m\n\u001b[1;33m    add=num1+num2\u001b[0m\n\u001b[1;37m      ^\u001b[0m\n\u001b[1;31mSyntaxError\u001b[0m\u001b[1;31m:\u001b[0m invalid syntax\n"
     ]
    }
   ],
   "source": [
    "num1=int(input(\"Height:\"))\n",
    "num2=int(input(\"Breadth:\")\n",
    "add=num1+num2\n",
    "print(\"Area of Triangle\",add)"
   ]
  },
  {
   "cell_type": "code",
   "execution_count": 11,
   "metadata": {},
   "outputs": [],
   "source": [
    "def Triangle():\n",
    "    num1=int(input(\"Height:\"))\n",
    "    num2=int(input(\"Breadth:\"))\n",
    "    Answer=num1*num2/2\n",
    "    print(\"Area Formula:(Height*Breadth)/2\")\n",
    "    print(\"Area of Triangle:\",Answer)\n",
    "    num3=int(input(\"Height1:\"))\n",
    "    num4=int(input(\"Height2:\"))\n",
    "    num5=int(input(\"Breadth:\"))\n",
    "    Add=num3+num4+num5\n",
    "    print(\"Perimeter Formula:Height1+Height2+Breadth\")\n",
    "    print(\"Perimeter of Triangle:\",Add)\n",
    "\n"
   ]
  },
  {
   "cell_type": "code",
   "execution_count": 12,
   "metadata": {},
   "outputs": [
    {
     "name": "stdout",
     "output_type": "stream",
     "text": [
      "Height:3\n",
      "Breadth:4\n",
      "Area Formula:(Height*Breadth)/2\n",
      "Area of Triangle: 6.0\n",
      "Height1:3\n",
      "Height2:4\n",
      "Breadth:45\n",
      "Perimeter Formula:Height1+Height2+Breadth\n",
      "Perimeter of Triangle: 52\n"
     ]
    }
   ],
   "source": [
    "Triangle()"
   ]
  },
  {
   "cell_type": "code",
   "execution_count": null,
   "metadata": {},
   "outputs": [],
   "source": []
  }
 ],
 "metadata": {
  "kernelspec": {
   "display_name": "Python 3",
   "language": "python",
   "name": "python3"
  },
  "language_info": {
   "codemirror_mode": {
    "name": "ipython",
    "version": 3
   },
   "file_extension": ".py",
   "mimetype": "text/x-python",
   "name": "python",
   "nbconvert_exporter": "python",
   "pygments_lexer": "ipython3",
   "version": "3.7.4"
  }
 },
 "nbformat": 4,
 "nbformat_minor": 2
}
